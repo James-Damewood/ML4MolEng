{
 "cells": [
  {
   "cell_type": "markdown",
   "metadata": {
    "colab_type": "text",
    "id": "view-in-github"
   },
   "source": [
    "<a href=\"https://colab.research.google.com/github/wwang2/mit-mlmol/blob/master/pset/ps1/Intro2Colab.ipynb\" target=\"_parent\"><img src=\"https://colab.research.google.com/assets/colab-badge.svg\" alt=\"Open In Colab\"/></a>"
   ]
  },
  {
   "cell_type": "markdown",
   "metadata": {
    "id": "mo1RpkVBShOK"
   },
   "source": [
    "# Intro to Colab\n",
    "\n",
    "Hi! Class.\n",
    "\n",
    "This notebook introduces how to use Colab to develop coding solutions for the class. \n",
    "\n",
    "If you have used jupyter notebook or Juyterlab before, you will find using colab is very similar. \n",
    "\n",
    "First you can try the example intro notebook here: \n",
    "\n",
    "https://colab.research.google.com/notebooks/intro.ipynb\n",
    "\n",
    "You need to share your solution as a notebook file .ipynb on canvas."
   ]
  },
  {
   "cell_type": "markdown",
   "metadata": {},
   "source": [
    "# Shift/Enter to run each code cell"
   ]
  },
  {
   "cell_type": "code",
   "execution_count": null,
   "metadata": {},
   "outputs": [],
   "source": [
    "print(\"hello world\")"
   ]
  },
  {
   "cell_type": "markdown",
   "metadata": {},
   "source": [
    "You can basically understand your colab environment as your temporary computer, you can checkout the file system by clicking on the `Files` button on the left side bar. \n",
    "\n",
    "And you can use your linux commands to navigate the system. Just put a `!` in fron the command, like this: "
   ]
  },
  {
   "cell_type": "code",
   "execution_count": null,
   "metadata": {
    "colab": {
     "base_uri": "https://localhost:8080/"
    },
    "id": "yPJm-e1bbLGs",
    "outputId": "4745b8fc-4d69-40a9-a43d-4eeea8f5e9f8"
   },
   "outputs": [],
   "source": [
    "! pwd \n",
    "! ls"
   ]
  },
  {
   "cell_type": "markdown",
   "metadata": {
    "id": "LccfT67TUVhG"
   },
   "source": [
    "\n",
    "# Programming environment \n",
    "\n",
    "## Colab \n",
    "Use colab, most packages are pre-installed (sklearn, pytorch, numpy). One can even request a GPU.\n",
    "\n",
    "For example, you use matplotlib and numpy:"
   ]
  },
  {
   "cell_type": "code",
   "execution_count": null,
   "metadata": {},
   "outputs": [],
   "source": [
    "import matplotlib.pyplot as plt \n",
    "import numpy as np "
   ]
  },
  {
   "cell_type": "code",
   "execution_count": null,
   "metadata": {},
   "outputs": [],
   "source": [
    "plt.title(\"1D Normal Distribution\")\n",
    "plt.hist(np.random.randn(20000), bins=75)\n",
    "plt.show()"
   ]
  },
  {
   "cell_type": "markdown",
   "metadata": {},
   "source": [
    "## Local computer \n",
    "\n",
    "you can  do your work locally and upload your work to colab and share, but make sure the notebook you devloped locally can also run on colab. \n",
    "\n",
    "You might want to check package compatibility between local environment and colab programming environments. (e.g. some functions might be deprecated in newer package version installed in colab).\n",
    "\n",
    "You can check your package version by typing: "
   ]
  },
  {
   "cell_type": "code",
   "execution_count": null,
   "metadata": {},
   "outputs": [],
   "source": [
    "import numpy as np\n",
    "\n",
    "print(np.__version__)"
   ]
  },
  {
   "cell_type": "markdown",
   "metadata": {
    "id": "970u0t2KUf3F"
   },
   "source": [
    "# Save your work \n",
    "\n",
    "You can save your work on colab. There are a few options.\n",
    "\n",
    "* Save in Google Drive: File -> Save in Drive \n",
    "* Save on github : File -> Save a copy in Github \n",
    "* Save locally: File -> Download .ipynb or .py \n",
    "\n",
    "Note that a Colab session will time out if being in a idle state, it means that all the cached data, variables will be gone and you need to rerun the notebooks. "
   ]
  },
  {
   "cell_type": "markdown",
   "metadata": {
    "id": "kBpwFXo8VBMJ"
   },
   "source": [
    "# Install additional packages. \n",
    "\n",
    "Sometimes, you will need to install additional packages for finishing a project. For example: scikit-learn. \n",
    "\n",
    "You can ```!pip install scikit-learn```\n",
    "\n",
    "However, anaconda is not pre-installed in colab environment. we will provide additional instruction for installing packages from colab. \n"
   ]
  },
  {
   "cell_type": "code",
   "execution_count": null,
   "metadata": {
    "colab": {
     "base_uri": "https://localhost:8080/"
    },
    "id": "rBN1FNS4VmPN",
    "outputId": "b42ea02f-5dcb-448d-ef7a-4064251b8150"
   },
   "outputs": [],
   "source": [
    "!pip install scikit-learn"
   ]
  },
  {
   "cell_type": "markdown",
   "metadata": {
    "id": "8fG1Vr8pXXX3"
   },
   "source": [
    "# Upload your data/file to Colab virtual envrionment \n",
    "\n",
    "Click the file icon from the side bar and click the upload button and choose your files"
   ]
  },
  {
   "cell_type": "markdown",
   "metadata": {
    "id": "qJea8uO5bVKq"
   },
   "source": [
    "# Clone a git repository \n",
    "\n",
    "Sometimes you want to clone some devloped repository from github or gitlab. You can just do it by typing `!git clone <repo url>`"
   ]
  },
  {
   "cell_type": "code",
   "execution_count": null,
   "metadata": {
    "colab": {
     "base_uri": "https://localhost:8080/"
    },
    "id": "4tAKrxz_Z5mI",
    "outputId": "f21b400b-f7ad-4a6c-96a2-c18932b3b31f"
   },
   "outputs": [],
   "source": [
    "!git clone https://github.com/wwang2/ML4MolEng.git"
   ]
  },
  {
   "cell_type": "markdown",
   "metadata": {
    "id": "spipGF2Abvhw"
   },
   "source": [
    "Note that you have to clone with https in Colab, but not ssh. Because you haven't have your ssh key pair set it up here."
   ]
  }
 ],
 "metadata": {
  "colab": {
   "authorship_tag": "ABX9TyNnb/upZuvLM3vaYtp25FQT",
   "include_colab_link": true,
   "name": "Intro2Colab.ipynb",
   "provenance": []
  },
  "kernelspec": {
   "display_name": "Python [default]",
   "language": "python",
   "name": "python3"
  },
  "language_info": {
   "codemirror_mode": {
    "name": "ipython",
    "version": 3
   },
   "file_extension": ".py",
   "mimetype": "text/x-python",
   "name": "python",
   "nbconvert_exporter": "python",
   "pygments_lexer": "ipython3",
   "version": "3.5.5"
  }
 },
 "nbformat": 4,
 "nbformat_minor": 1
}
